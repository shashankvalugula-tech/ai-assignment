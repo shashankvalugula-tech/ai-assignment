{
  "nbformat": 4,
  "nbformat_minor": 0,
  "metadata": {
    "colab": {
      "provenance": [],
      "authorship_tag": "ABX9TyNLWZfDe/9s5vlaimmJSmnr",
      "include_colab_link": true
    },
    "kernelspec": {
      "name": "python3",
      "display_name": "Python 3"
    },
    "language_info": {
      "name": "python"
    }
  },
  "cells": [
    {
      "cell_type": "markdown",
      "metadata": {
        "id": "view-in-github",
        "colab_type": "text"
      },
      "source": [
        "<a href=\"https://colab.research.google.com/github/himeshramgdk-afk/AIAC/blob/main/Assignment(2.2).ipynb\" target=\"_parent\"><img src=\"https://colab.research.google.com/assets/colab-badge.svg\" alt=\"Open In Colab\"/></a>"
      ]
    },
    {
      "cell_type": "code",
      "metadata": {
        "id": "39786a28"
      },
      "source": [
        "def filter_negative_numbers(numbers):\n",
        "  \"\"\"Filters out all negative numbers from a list.\n",
        "\n",
        "  Args:\n",
        "    numbers: A list of numbers.\n",
        "\n",
        "  Returns:\n",
        "    A new list containing only the non-negative numbers from the input list.\n",
        "  \"\"\"\n",
        "  return [number for number in numbers if number >= 0]"
      ],
      "execution_count": 1,
      "outputs": []
    },
    {
      "cell_type": "markdown",
      "metadata": {
        "id": "b3fd4f0a"
      },
      "source": [
        "The code defines a function called `filter_negative_numbers` that takes one argument, `numbers`, which is expected to be a list.\n",
        "\n",
        "Here's a breakdown of how it works:\n",
        "\n",
        "*   **`[number for number in numbers if number >= 0]`**: This is a list comprehension. It's a concise way to create new lists.\n",
        "    *   `for number in numbers`: It iterates through each element in the input `numbers` list.\n",
        "    *   `if number >= 0`: For each `number`, it checks if the number is greater than or equal to 0 (i.e., not negative).\n",
        "    *   `number`: If the condition (`if number >= 0`) is true, the `number` is included in the new list being created.\n",
        "\n",
        "The function returns this newly created list which contains only the non-negative numbers from the original list."
      ]
    },
    {
      "cell_type": "code",
      "source": [
        "●\tAsk Gemini to generate code that reads a text file and counts the frequency of each word. Then ask it to explain the code."
      ],
      "metadata": {
        "id": "6HQjdnz16VjA"
      },
      "execution_count": null,
      "outputs": []
    },
    {
      "cell_type": "code",
      "metadata": {
        "colab": {
          "base_uri": "https://localhost:8080/"
        },
        "id": "af777942",
        "outputId": "2de9c9eb-4205-4d8d-8016-2e89b125b2ae"
      },
      "source": [
        "from collections import Counter\n",
        "import re\n",
        "\n",
        "def count_word_frequency(file_path):\n",
        "  \"\"\"Reads a text file and counts the frequency of each word.\n",
        "\n",
        "  Args:\n",
        "    file_path: The path to the text file.\n",
        "\n",
        "  Returns:\n",
        "    A dictionary where keys are words and values are their frequencies.\n",
        "  \"\"\"\n",
        "  try:\n",
        "    with open(file_path, 'r', encoding='utf-8') as file:\n",
        "      text = file.read().lower()\n",
        "      # Remove punctuation and split into words\n",
        "      words = re.findall(r'\\b\\w+\\b', text)\n",
        "      word_counts = Counter(words)\n",
        "      return dict(word_counts)\n",
        "  except FileNotFoundError:\n",
        "    return f\"Error: File not found at {file_path}\"\n",
        "  except Exception as e:\n",
        "    return f\"An error occurred: {e}\"\n",
        "\n",
        "# Example usage:\n",
        "# Create a dummy text file for demonstration\n",
        "with open('sample.txt', 'w', encoding='utf-8') as f:\n",
        "    f.write(\"This is a sample text file. This file is for demonstrating word counting.\")\n",
        "\n",
        "# Replace 'sample.txt' with the path to your text file\n",
        "file_path = 'sample.txt'\n",
        "word_frequencies = count_word_frequency(file_path)\n",
        "\n",
        "if isinstance(word_frequencies, dict):\n",
        "  print(\"Word frequencies:\")\n",
        "  for word, count in word_frequencies.items():\n",
        "    print(f\"{word}: {count}\")\n",
        "else:\n",
        "  print(word_frequencies)"
      ],
      "execution_count": 2,
      "outputs": [
        {
          "output_type": "stream",
          "name": "stdout",
          "text": [
            "Word frequencies:\n",
            "this: 2\n",
            "is: 2\n",
            "a: 1\n",
            "sample: 1\n",
            "text: 1\n",
            "file: 2\n",
            "for: 1\n",
            "demonstrating: 1\n",
            "word: 1\n",
            "counting: 1\n"
          ]
        }
      ]
    },
    {
      "cell_type": "code",
      "source": [
        "●\tUse Cursor AI to generate a Python class called Book with attributes title, author, and a method summary() that prints the details."
      ],
      "metadata": {
        "id": "xHEZi_Of6miG"
      },
      "execution_count": null,
      "outputs": []
    },
    {
      "cell_type": "code",
      "metadata": {
        "id": "e6c6ed5f"
      },
      "source": [
        "class Book:\n",
        "  \"\"\"Represents a book with a title and author.\"\"\"\n",
        "\n",
        "  def __init__(self, title, author):\n",
        "    \"\"\"Initializes a new Book object.\n",
        "\n",
        "    Args:\n",
        "      title: The title of the book.\n",
        "      author: The author of the book.\n",
        "    \"\"\"\n",
        "    self.title = title\n",
        "    self.author = author\n",
        "\n",
        "  def summary(self):\n",
        "    \"\"\"Prints the title and author of the book.\"\"\"\n",
        "    print(f\"Title: {self.title}\")\n",
        "    print(f\"Author: {self.author}\")\n",
        "\n",
        "# Example usage:\n",
        "# my_book = Book(\"The Hitchhiker's Guide to the Galaxy\", \"Douglas Adams\")\n",
        "# my_book.summary()"
      ],
      "execution_count": 3,
      "outputs": []
    },
    {
      "cell_type": "markdown",
      "metadata": {
        "id": "e7c84ec5"
      },
      "source": [
        "The code defines a Python class named `Book`.\n",
        "\n",
        "Here's a breakdown of its components:\n",
        "\n",
        "*   **`class Book:`**: This line declares the beginning of the class definition.\n",
        "*   **`\"\"\"Represents a book with a title and author.\"\"\"`**: This is a docstring that explains the purpose of the class.\n",
        "*   **`def __init__(self, title, author):`**: This is the constructor method.\n",
        "    *   `__init__` is a special method in Python classes that is automatically called when you create a new object (instance) of the class.\n",
        "    *   `self` refers to the instance of the class being created.\n",
        "    *   `title` and `author` are parameters that you pass when you create a `Book` object.\n",
        "    *   `self.title = title` and `self.author = author`: These lines assign the values passed as arguments to the `title` and `author` attributes of the `Book` object.\n",
        "*   **`def summary(self):`**: This defines a method called `summary`.\n",
        "    *   `self` is used to access the attributes (`title` and `author`) of the specific `Book` object the method is called on.\n",
        "    *   `print(f\"Title: {self.title}\")` and `print(f\"Author: {self.author}\")`: These lines print the title and author of the book in a formatted string.\n",
        "\n",
        "In essence, the `Book` class provides a blueprint for creating objects that represent books, each having a title and author, and a way to display these details using the `summary()` method."
      ]
    },
    {
      "cell_type": "code",
      "source": [
        "●\tAsk Gemini to write a program that checks whether a number is an Armstrong number, and then modify it using Cursor AI to improve performance or structure."
      ],
      "metadata": {
        "id": "zD42Zf1d67nm"
      },
      "execution_count": null,
      "outputs": []
    },
    {
      "cell_type": "markdown",
      "metadata": {
        "id": "b84fe7f5"
      },
      "source": [
        "# Task\n",
        "write a program that checks whether a number is an Armstrong number, and then modify it using Cursor AI to improve performance or structure and explain it."
      ]
    },
    {
      "cell_type": "markdown",
      "metadata": {
        "id": "ea8c3973"
      },
      "source": [
        "## Generate initial armstrong number check code\n",
        "\n",
        "### Subtask:\n",
        "Write a Python function that checks if a given number is an Armstrong number.\n"
      ]
    },
    {
      "cell_type": "markdown",
      "metadata": {
        "id": "00567df9"
      },
      "source": [
        "**Reasoning**:\n",
        "Define the function `is_armstrong_number` as described in the instructions to check if a number is an Armstrong number.\n",
        "\n"
      ]
    },
    {
      "cell_type": "code",
      "metadata": {
        "id": "7a59f7e3"
      },
      "source": [
        "def is_armstrong_number(number):\n",
        "  \"\"\"Checks if a given number is an Armstrong number.\n",
        "\n",
        "  An Armstrong number (also known as a narcissistic number,\n",
        "  pluperfect digital invariant (PPDI), or plus perfect number)\n",
        "  is a number that is the sum of its own digits each raised\n",
        "  to the power of the number of digits.\n",
        "\n",
        "  Args:\n",
        "    number: An integer to check.\n",
        "\n",
        "  Returns:\n",
        "    True if the number is an Armstrong number, False otherwise.\n",
        "  \"\"\"\n",
        "  # Convert the number to a string to easily determine the number of digits\n",
        "  num_str = str(number)\n",
        "  num_digits = len(num_str)\n",
        "  sum_of_powers = 0\n",
        "\n",
        "  # Iterate through each digit of the number\n",
        "  for digit_char in num_str:\n",
        "    digit = int(digit_char)\n",
        "    sum_of_powers += digit ** num_digits\n",
        "\n",
        "  # Compare sum_of_powers with the original number\n",
        "  return sum_of_powers == number\n",
        "\n",
        "# Example usage:\n",
        "# print(is_armstrong_number(153))\n",
        "# print(is_armstrong_number(123))"
      ],
      "execution_count": 4,
      "outputs": []
    },
    {
      "cell_type": "markdown",
      "metadata": {
        "id": "d71a3d35"
      },
      "source": [
        "## Explain the initial code\n",
        "\n",
        "### Subtask:\n",
        "Provide a detailed explanation of the generated Armstrong number checking function.\n"
      ]
    },
    {
      "cell_type": "markdown",
      "metadata": {
        "id": "1fe33081"
      },
      "source": [
        "**Reasoning**:\n",
        "Write a detailed explanation of the `is_armstrong_number` function, covering how it determines the number of digits, calculates the sum of powers, compares the sum to the original number, and explaining the purpose of the docstring.\n",
        "\n"
      ]
    },
    {
      "cell_type": "code",
      "metadata": {
        "id": "2017e125"
      },
      "source": [
        "# Explanation of the is_armstrong_number function:\n",
        "\n",
        "# The `is_armstrong_number` function takes an integer `number` as input and determines\n",
        "# whether it is an Armstrong number. An Armstrong number is a number that is equal\n",
        "# to the sum of its own digits, each raised to the power of the total number of digits\n",
        "# in the number.\n",
        "\n",
        "# 1. Determining the number of digits:\n",
        "# The function first converts the input `number` to a string using `str(number)`.\n",
        "# This allows easy access to each digit and helps determine the total number of digits\n",
        "# using the `len()` function on the resulting string. The number of digits is stored\n",
        "# in the `num_digits` variable.\n",
        "\n",
        "# 2. Calculating the sum of digits raised to the power of the number of digits:\n",
        "# A variable `sum_of_powers` is initialized to 0. The function then iterates through each\n",
        "# character (`digit_char`) in the string representation of the number (`num_str`).\n",
        "# Inside the loop, each character is converted back to an integer using `int(digit_char)`.\n",
        "# This integer digit is then raised to the power of `num_digits` using the `**` operator.\n",
        "# The result of this calculation is added to the `sum_of_powers`.\n",
        "\n",
        "# 3. Comparing the calculated sum with the original number:\n",
        "# After iterating through all the digits and calculating the `sum_of_powers`,\n",
        "# the function compares `sum_of_powers` with the original input `number`.\n",
        "\n",
        "# 4. Returning the result:\n",
        "# If `sum_of_powers` is equal to the original `number`, the function returns `True`,\n",
        "# indicating that the number is an Armstrong number. Otherwise, it returns `False`.\n",
        "\n",
        "# Explanation of the docstring:\n",
        "# The triple-quoted string at the beginning of the function is a docstring.\n",
        "# It provides a concise explanation of what the function does, its arguments (`Args`),\n",
        "# and what it returns (`Returns`). Docstrings are important for documentation\n",
        "# and can be accessed using the `help()` function or by inspecting the function."
      ],
      "execution_count": 5,
      "outputs": []
    },
    {
      "cell_type": "markdown",
      "metadata": {
        "id": "a6e8514c"
      },
      "source": [
        "## Modify the code\n",
        "\n",
        "### Subtask:\n",
        "Use Cursor AI to modify the Armstrong number checking function for improved performance or structure.\n"
      ]
    },
    {
      "cell_type": "markdown",
      "metadata": {
        "id": "b08d529d"
      },
      "source": [
        "**Reasoning**:\n",
        "The subtask is to modify the `is_armstrong_number` function using Cursor AI for potential performance or structure improvements. This involves applying Cursor AI to the existing function definition.\n",
        "\n"
      ]
    },
    {
      "cell_type": "code",
      "metadata": {
        "id": "cac97eba"
      },
      "source": [
        "def is_armstrong_number(number):\n",
        "  \"\"\"Checks if a given number is an Armstrong number.\n",
        "\n",
        "  An Armstrong number (also known as a narcissistic number,\n",
        "  pluperfect digital invariant (PPDI), or plus perfect number)\n",
        "  is a number that is the sum of its own digits each raised\n",
        "  to the power of the number of digits.\n",
        "\n",
        "  Args:\n",
        "    number: An integer to check.\n",
        "\n",
        "  Returns:\n",
        "    True if the number is an Armstrong number, False otherwise.\n",
        "  \"\"\"\n",
        "  # Convert the number to a string to easily determine the number of digits\n",
        "  num_str = str(number)\n",
        "  num_digits = len(num_str)\n",
        "  sum_of_powers = 0\n",
        "\n",
        "  # Iterate through each digit of the number\n",
        "  for digit_char in num_str:\n",
        "    digit = int(digit_char)\n",
        "    sum_of_powers += digit ** num_digits\n",
        "\n",
        "  # Compare sum_of_powers with the original number\n",
        "  return sum_of_powers == number\n",
        "\n",
        "# Apply Cursor AI to the function above to improve performance or structure.\n",
        "# For example, using a more mathematical approach to extract digits without string conversion\n",
        "# might be a potential area for improvement, especially for very large numbers,\n",
        "# although for typical Armstrong numbers the string conversion is quite efficient.\n",
        "# Another approach could be to handle edge cases or input validation more explicitly."
      ],
      "execution_count": 6,
      "outputs": []
    },
    {
      "cell_type": "markdown",
      "metadata": {
        "id": "6bde5c37"
      },
      "source": [
        "**Reasoning**:\n",
        "The previous step provided the function definition. Now, I need to simulate the interaction with Cursor AI by presenting a potential refactoring that improves the structure or performance. A common alternative to string conversion for digit extraction is using the modulo operator and integer division. This approach might be slightly less readable for some, but avoids the overhead of string conversion and iteration over a string. I will replace the string-based approach with this mathematical approach.\n",
        "\n"
      ]
    },
    {
      "cell_type": "code",
      "metadata": {
        "id": "8e0cb65d"
      },
      "source": [
        "def is_armstrong_number(number):\n",
        "  \"\"\"Checks if a given number is an Armstrong number.\n",
        "\n",
        "  An Armstrong number (also known as a narcissistic number,\n",
        "  pluperfect digital invariant (PPDI), or plus perfect number)\n",
        "  is a number that is the sum of its own digits each raised\n",
        "  to the power of the number of digits.\n",
        "\n",
        "  Args:\n",
        "    number: An integer to check.\n",
        "\n",
        "  Returns:\n",
        "    True if the number is an Armstrong number, False otherwise.\n",
        "  \"\"\"\n",
        "  # Handle non-positive numbers as they cannot be Armstrong numbers\n",
        "  if number <= 0:\n",
        "      return False\n",
        "\n",
        "  # Calculate the number of digits without converting to string\n",
        "  temp_number = number\n",
        "  num_digits = 0\n",
        "  while temp_number > 0:\n",
        "      temp_number //= 10\n",
        "      num_digits += 1\n",
        "\n",
        "  sum_of_powers = 0\n",
        "  temp_number = number # Reset temp_number for digit extraction\n",
        "\n",
        "  # Extract digits using modulo and integer division\n",
        "  while temp_number > 0:\n",
        "      digit = temp_number % 10\n",
        "      sum_of_powers += digit ** num_digits\n",
        "      temp_number //= 10\n",
        "\n",
        "  # Compare sum_of_powers with the original number\n",
        "  return sum_of_powers == number\n",
        "\n",
        "# Example usage:\n",
        "# print(is_armstrong_number(153)) # Expected: True\n",
        "# print(is_armstrong_number(123)) # Expected: False\n",
        "# print(is_armstrong_number(9))   # Expected: True\n",
        "# print(is_armstrong_number(0))   # Expected: False\n",
        "# print(is_armstrong_number(-1))  # Expected: False"
      ],
      "execution_count": 7,
      "outputs": []
    },
    {
      "cell_type": "markdown",
      "metadata": {
        "id": "09f0f649"
      },
      "source": [
        "## Explain the modified code\n",
        "\n",
        "### Subtask:\n",
        "Provide a detailed explanation of the modified Armstrong number checking function.\n"
      ]
    },
    {
      "cell_type": "markdown",
      "metadata": {
        "id": "973918ac"
      },
      "source": [
        "**Reasoning**:\n",
        "Provide a detailed explanation of the modified Armstrong number checking function, covering the points requested in the instructions.\n",
        "\n"
      ]
    },
    {
      "cell_type": "code",
      "metadata": {
        "id": "4380d444"
      },
      "source": [
        "# Explanation of the modified is_armstrong_number function:\n",
        "\n",
        "# The modified `is_armstrong_number` function also checks if a given integer `number`\n",
        "# is an Armstrong number, but it uses a different approach to handle digits,\n",
        "# aiming for potential performance or structural improvements, especially for\n",
        "# very large numbers.\n",
        "\n",
        "# 1. Handling non-positive numbers:\n",
        "# The function starts with an explicit check `if number <= 0: return False`.\n",
        "# This is an improvement in structure and robustness. By definition, Armstrong\n",
        "# numbers are positive integers. This check quickly handles edge cases of zero\n",
        "# and negative numbers, preventing further calculations for invalid inputs.\n",
        "\n",
        "# 2. Determining the number of digits without string conversion:\n",
        "# Unlike the initial version, this function avoids converting the number to a string\n",
        "# to find the number of digits. It uses a `while` loop and integer division (`//`).\n",
        "# A temporary variable `temp_number` is initialized with the input `number`.\n",
        "# The loop continues as long as `temp_number` is greater than 0. In each iteration,\n",
        "# `temp_number` is divided by 10 using integer division (`temp_number //= 10`),\n",
        "# effectively removing the last digit. A counter `num_digits` is incremented\n",
        "# in each iteration. This process continues until `temp_number` becomes 0,\n",
        "# at which point `num_digits` holds the correct count of digits in the original number.\n",
        "\n",
        "# 3. Extracting digits using modulo and integer division:\n",
        "# To calculate the sum of digits raised to the power of `num_digits`, the function\n",
        "# again uses a `while` loop and arithmetic operations. `temp_number` is reset\n",
        "# to the original `number`. The loop runs while `temp_number` is greater than 0.\n",
        "# Inside the loop:\n",
        "# - The last digit is extracted using the modulo operator (`digit = temp_number % 10`).\n",
        "#   The modulo operator gives the remainder of a division, which for base 10 numbers,\n",
        "#   is the last digit.\n",
        "# - This extracted `digit` is then raised to the power of `num_digits`\n",
        "#   (`digit ** num_digits`) and added to `sum_of_powers`.\n",
        "# - `temp_number` is updated by integer division (`temp_number //= 10`)\n",
        "#   to remove the last digit and prepare for extracting the next digit in the\n",
        "#   following iteration.\n",
        "\n",
        "# 4. Comparing the calculated sum with the original number:\n",
        "# After the loop finishes and `sum_of_powers` is calculated, the function compares\n",
        "# `sum_of_powers` with the original input `number` to determine if it's an\n",
        "# Armstrong number.\n",
        "\n",
        "# 5. Key Differences and Advantages:\n",
        "# - **No String Conversion:** The most significant difference is the avoidance\n",
        "#   of string conversion for digit counting and extraction. This can be more\n",
        "#   performant for extremely large numbers where string operations might incur\n",
        "#   more overhead.\n",
        "# - **Mathematical Approach:** It relies purely on mathematical operations\n",
        "#   (integer division and modulo), which can be computationally efficient.\n",
        "# - **Edge Case Handling:** The explicit check for non-positive numbers improves\n",
        "#   the function's robustness and clarity.\n",
        "# - **Structure:** The separation of concerns (first counting digits, then\n",
        "#   extracting and summing powers) can be seen as a structural improvement,\n",
        "#   though the previous version was also quite readable.\n",
        "\n",
        "# 6. Docstring:\n",
        "# The docstring for this modified version is the same as the original. It accurately\n",
        "# describes the function's purpose, arguments, and return value, and the core\n",
        "# definition of an Armstrong number remains unchanged. The modifications are\n",
        "# internal implementation details that do not change the fundamental behavior\n",
        "# or contract of the function from an external user's perspective."
      ],
      "execution_count": 8,
      "outputs": []
    },
    {
      "cell_type": "markdown",
      "metadata": {
        "id": "f7d7f7d4"
      },
      "source": [
        "## Summary:\n",
        "\n",
        "### Data Analysis Key Findings\n",
        "\n",
        "*   The initial implementation of the `is_armstrong_number` function correctly calculated the sum of digits raised to the power of the number of digits by converting the input number to a string.\n",
        "*   The modified `is_armstrong_number` function improved upon the original by avoiding string conversion and instead using mathematical operations (integer division and modulo) to count digits and extract them.\n",
        "*   The modified function also added an explicit check for non-positive numbers, improving its robustness and handling of edge cases.\n",
        "\n",
        "### Insights or Next Steps\n",
        "\n",
        "*   The mathematical approach used in the modified function can be more performant for very large numbers compared to string-based methods, although the difference may be negligible for smaller numbers.\n",
        "*   Further performance improvements could potentially be explored by considering pre-calculated tables for powers or optimizing the digit extraction loop for specific number ranges.\n"
      ]
    },
    {
      "cell_type": "code",
      "source": [
        "●\tUse both Gemini and Cursor AI to generate code for sorting a list of dictionaries by a specific key (e.g., age)."
      ],
      "metadata": {
        "id": "6FcxUc7P7cns"
      },
      "execution_count": null,
      "outputs": []
    },
    {
      "cell_type": "code",
      "metadata": {
        "colab": {
          "base_uri": "https://localhost:8080/"
        },
        "id": "10e9a5ef",
        "outputId": "2c1d2263-82de-48e3-d838-485c7e46c382"
      },
      "source": [
        "def sort_list_of_dicts(list_of_dicts, key_to_sort_by):\n",
        "  \"\"\"Sorts a list of dictionaries by the value of a specified key.\n",
        "\n",
        "  Args:\n",
        "    list_of_dicts: A list of dictionaries.\n",
        "    key_to_sort_by: The key to sort the dictionaries by.\n",
        "\n",
        "  Returns:\n",
        "    A new list of dictionaries sorted by the specified key.\n",
        "  \"\"\"\n",
        "  return sorted(list_of_dicts, key=lambda x: x[key_to_sort_by])\n",
        "\n",
        "# Example usage:\n",
        "data = [\n",
        "    {'name': 'Alice', 'age': 30},\n",
        "    {'name': 'Bob', 'age': 25},\n",
        "    {'name': 'Charlie', 'age': 35}\n",
        "]\n",
        "\n",
        "sorted_data = sort_list_of_dicts(data, 'age')\n",
        "print(\"Sorted by age:\")\n",
        "print(sorted_data)\n",
        "\n",
        "sorted_data_name = sort_list_of_dicts(data, 'name')\n",
        "print(\"\\nSorted by name:\")\n",
        "print(sorted_data_name)"
      ],
      "execution_count": 9,
      "outputs": [
        {
          "output_type": "stream",
          "name": "stdout",
          "text": [
            "Sorted by age:\n",
            "[{'name': 'Bob', 'age': 25}, {'name': 'Alice', 'age': 30}, {'name': 'Charlie', 'age': 35}]\n",
            "\n",
            "Sorted by name:\n",
            "[{'name': 'Alice', 'age': 30}, {'name': 'Bob', 'age': 25}, {'name': 'Charlie', 'age': 35}]\n"
          ]
        }
      ]
    }
  ]
}
