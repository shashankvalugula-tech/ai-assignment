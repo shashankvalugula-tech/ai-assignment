{
  "nbformat": 4,
  "nbformat_minor": 0,
  "metadata": {
    "colab": {
      "provenance": [],
      "authorship_tag": "ABX9TyPkJP6T1pxQ2aFdDl2jeDvu",
      "include_colab_link": true
    },
    "kernelspec": {
      "name": "python3",
      "display_name": "Python 3"
    },
    "language_info": {
      "name": "python"
    }
  },
  "cells": [
    {
      "cell_type": "markdown",
      "metadata": {
        "id": "view-in-github",
        "colab_type": "text"
      },
      "source": [
        "<a href=\"https://colab.research.google.com/github/shashankvalugula-tech/ai-assignment/blob/main/Untitled3.ipynb\" target=\"_parent\"><img src=\"https://colab.research.google.com/assets/colab-badge.svg\" alt=\"Open In Colab\"/></a>"
      ]
    },
    {
      "cell_type": "code",
      "execution_count": null,
      "metadata": {
        "id": "R9X8V4h4TKv2"
      },
      "outputs": [],
      "source": [
        "Use Gemini in Colab to write a function that filters out all negative numbers from a\n",
        "given list"
      ]
    },
    {
      "cell_type": "code",
      "metadata": {
        "colab": {
          "base_uri": "https://localhost:8080/"
        },
        "id": "c9078893",
        "outputId": "3fba19b1-aff8-49dd-e303-bf3c25959bb9"
      },
      "source": [
        "def filter_negative_numbers(input_list):\n",
        "  \"\"\"Filters out all negative numbers from a given list.\n",
        "\n",
        "  Args:\n",
        "    input_list: A list of numbers.\n",
        "\n",
        "  Returns:\n",
        "    A new list containing only the non-negative numbers from the input list.\n",
        "  \"\"\"\n",
        "  return [number for number in input_list if number >= 0]\n",
        "\n",
        "# Example usage:\n",
        "my_list = [1, -2, 3, -4, 5, 0, -6]\n",
        "filtered_list = filter_negative_numbers(my_list)\n",
        "print(filtered_list)"
      ],
      "execution_count": 1,
      "outputs": [
        {
          "output_type": "stream",
          "name": "stdout",
          "text": [
            "[1, 3, 5, 0]\n"
          ]
        }
      ]
    },
    {
      "cell_type": "code",
      "source": [
        "Ask Gemini to generate code that reads a text file and counts the frequency of each\n",
        "word. Then ask it to explain the code"
      ],
      "metadata": {
        "id": "ziOKrJD-TZmQ"
      },
      "execution_count": null,
      "outputs": []
    },
    {
      "cell_type": "code",
      "metadata": {
        "colab": {
          "base_uri": "https://localhost:8080/"
        },
        "id": "a764188b",
        "outputId": "9f084f26-40f4-4865-af0b-57c111b25ba0"
      },
      "source": [
        "import re\n",
        "from collections import Counter\n",
        "\n",
        "def count_word_frequency(filepath):\n",
        "  \"\"\"Reads a text file and counts the frequency of each word.\n",
        "\n",
        "  Args:\n",
        "    filepath: The path to the text file.\n",
        "\n",
        "  Returns:\n",
        "    A Counter object with word frequencies.\n",
        "  \"\"\"\n",
        "  try:\n",
        "    with open(filepath, 'r') as f:\n",
        "      text = f.read().lower()\n",
        "      # Remove punctuation and split into words\n",
        "      words = re.findall(r'\\b\\w+\\b', text)\n",
        "      word_counts = Counter(words)\n",
        "      return word_counts\n",
        "  except FileNotFoundError:\n",
        "    return \"Error: File not found.\"\n",
        "  except Exception as e:\n",
        "    return f\"An error occurred: {e}\"\n",
        "\n",
        "# Example usage:\n",
        "# Create a dummy text file for demonstration\n",
        "with open(\"sample.txt\", \"w\") as f:\n",
        "    f.write(\"This is a sample text file. This file is for sample purposes.\")\n",
        "\n",
        "word_frequencies = count_word_frequency(\"sample.txt\")\n",
        "print(word_frequencies)"
      ],
      "execution_count": 2,
      "outputs": [
        {
          "output_type": "stream",
          "name": "stdout",
          "text": [
            "Counter({'this': 2, 'is': 2, 'sample': 2, 'file': 2, 'a': 1, 'text': 1, 'for': 1, 'purposes': 1})\n"
          ]
        }
      ]
    },
    {
      "cell_type": "code",
      "source": [
        "Use Cursor AI to generate a Python class called Book with attributes title, author, and\n",
        "a method summary() that prints the details."
      ],
      "metadata": {
        "id": "t_Qv5j4gTrno"
      },
      "execution_count": null,
      "outputs": []
    },
    {
      "cell_type": "code",
      "metadata": {
        "colab": {
          "base_uri": "https://localhost:8080/"
        },
        "id": "026b36b0",
        "outputId": "de90ca5b-0cf3-4920-f76d-51bc377ae3c8"
      },
      "source": [
        "class Book:\n",
        "  \"\"\"Represents a book with a title and author.\"\"\"\n",
        "\n",
        "  def __init__(self, title, author):\n",
        "    \"\"\"Initializes a new Book object.\n",
        "\n",
        "    Args:\n",
        "      title: The title of the book.\n",
        "      author: The author of the book.\n",
        "    \"\"\"\n",
        "    self.title = title\n",
        "    self.author = author\n",
        "\n",
        "  def summary(self):\n",
        "    \"\"\"Prints the details of the book.\"\"\"\n",
        "    print(f\"Title: {self.title}\")\n",
        "    print(f\"Author: {self.author}\")\n",
        "\n",
        "# Example usage:\n",
        "my_book = Book(\"The Hitchhiker's Guide to the Galaxy\", \"Douglas Adams\")\n",
        "my_book.summary()"
      ],
      "execution_count": 3,
      "outputs": [
        {
          "output_type": "stream",
          "name": "stdout",
          "text": [
            "Title: The Hitchhiker's Guide to the Galaxy\n",
            "Author: Douglas Adams\n"
          ]
        }
      ]
    },
    {
      "cell_type": "code",
      "source": [
        "Ask Gemini to write a program that checks whether a number is an Armstrong\n",
        "number, and then modify it using Cursor AI to improve performance or structure"
      ],
      "metadata": {
        "id": "USVVvLFMT51t"
      },
      "execution_count": null,
      "outputs": []
    },
    {
      "cell_type": "code",
      "metadata": {
        "colab": {
          "base_uri": "https://localhost:8080/"
        },
        "id": "d291538f",
        "outputId": "0643a516-3978-403f-86f1-75ac5691c895"
      },
      "source": [
        "def is_armstrong_number(number):\n",
        "  \"\"\"Checks if a number is an Armstrong number.\n",
        "\n",
        "  An Armstrong number (also known as a narcissistic number) is a number that is\n",
        "  the sum of its own digits each raised to the power of the number of digits.\n",
        "\n",
        "  Args:\n",
        "    number: An integer.\n",
        "\n",
        "  Returns:\n",
        "    True if the number is an Armstrong number, False otherwise.\n",
        "  \"\"\"\n",
        "  # Convert the number to a string to get the number of digits\n",
        "  num_str = str(number)\n",
        "  num_digits = len(num_str)\n",
        "  sum_of_powers = 0\n",
        "  for digit in num_str:\n",
        "    sum_of_powers += int(digit) ** num_digits\n",
        "\n",
        "  return sum_of_powers == number\n",
        "\n",
        "# Example usage:\n",
        "num_to_check = 153\n",
        "if is_armstrong_number(num_to_check):\n",
        "  print(f\"{num_to_check} is an Armstrong number.\")\n",
        "else:\n",
        "  print(f\"{num_to_check} is not an Armstrong number.\")\n",
        "\n",
        "num_to_check = 123\n",
        "if is_armstrong_number(num_to_check):\n",
        "  print(f\"{num_to_check} is an Armstrong number.\")\n",
        "else:\n",
        "  print(f\"{num_to_check} is not an Armstrong number.\")"
      ],
      "execution_count": 4,
      "outputs": [
        {
          "output_type": "stream",
          "name": "stdout",
          "text": [
            "153 is an Armstrong number.\n",
            "123 is not an Armstrong number.\n"
          ]
        }
      ]
    },
    {
      "cell_type": "markdown",
      "metadata": {
        "id": "a2ff721d"
      },
      "source": [
        "**Next Steps:** I have generated the initial code to check for Armstrong numbers. The next step is to explain this code, as outlined in our plan."
      ]
    },
    {
      "cell_type": "code",
      "source": [
        "Use both Gemini and Cursor AI to generate code for sorting a list of dictionaries by a\n",
        "specific key (e.g., age)"
      ],
      "metadata": {
        "id": "EXXLmAu6UeZk"
      },
      "execution_count": null,
      "outputs": []
    },
    {
      "cell_type": "code",
      "metadata": {
        "colab": {
          "base_uri": "https://localhost:8080/"
        },
        "id": "bd3b23a8",
        "outputId": "a4e46538-6604-4f8f-c9b2-c78aeabb88e9"
      },
      "source": [
        "def sort_list_of_dicts(list_of_dicts, key_to_sort_by):\n",
        "  \"\"\"Sorts a list of dictionaries by a specified key.\n",
        "\n",
        "  Args:\n",
        "    list_of_dicts: A list of dictionaries.\n",
        "    key_to_sort_by: The key to sort the dictionaries by.\n",
        "\n",
        "  Returns:\n",
        "    A new list of dictionaries sorted by the specified key.\n",
        "  \"\"\"\n",
        "  return sorted(list_of_dicts, key=lambda x: x[key_to_sort_by])\n",
        "\n",
        "# Example usage:\n",
        "data = [\n",
        "    {\"name\": \"Alice\", \"age\": 30},\n",
        "    {\"name\": \"Bob\", \"age\": 25},\n",
        "    {\"name\": \"Charlie\", \"age\": 35},\n",
        "    {\"name\": \"David\", \"age\": 25},\n",
        "]\n",
        "\n",
        "sorted_data = sort_list_of_dicts(data, \"age\")\n",
        "print(sorted_data)"
      ],
      "execution_count": 5,
      "outputs": [
        {
          "output_type": "stream",
          "name": "stdout",
          "text": [
            "[{'name': 'Bob', 'age': 25}, {'name': 'David', 'age': 25}, {'name': 'Alice', 'age': 30}, {'name': 'Charlie', 'age': 35}]\n"
          ]
        }
      ]
    }
  ]
}