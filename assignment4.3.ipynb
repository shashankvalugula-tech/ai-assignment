{
  "nbformat": 4,
  "nbformat_minor": 0,
  "metadata": {
    "colab": {
      "provenance": [],
      "authorship_tag": "ABX9TyP2qz19vYCLeTjx5i2KK/K7",
      "include_colab_link": true
    },
    "kernelspec": {
      "name": "python3",
      "display_name": "Python 3"
    },
    "language_info": {
      "name": "python"
    }
  },
  "cells": [
    {
      "cell_type": "markdown",
      "metadata": {
        "id": "view-in-github",
        "colab_type": "text"
      },
      "source": [
        "<a href=\"https://colab.research.google.com/github/shashankvalugula-tech/ai-assignment/blob/main/assignment4.3.ipynb\" target=\"_parent\"><img src=\"https://colab.research.google.com/assets/colab-badge.svg\" alt=\"Open In Colab\"/></a>"
      ]
    },
    {
      "cell_type": "code",
      "execution_count": null,
      "metadata": {
        "id": "wuraINKA0EXZ"
      },
      "outputs": [],
      "source": [
        "zero-shot: Prompt AI to write a function that checks whether a given year is a leap\n",
        "year"
      ]
    },
    {
      "cell_type": "code",
      "metadata": {
        "colab": {
          "base_uri": "https://localhost:8080/"
        },
        "id": "aca9bb07",
        "outputId": "5bef7bf6-4795-433f-b5e1-781fae236b44"
      },
      "source": [
        "def is_leap(year):\n",
        "  \"\"\"Checks if a given year is a leap year.\"\"\"\n",
        "  return (year % 4 == 0 and year % 100 != 0) or (year % 400 == 0)\n",
        "\n",
        "# Example usage\n",
        "year_to_check = 2024\n",
        "if is_leap(year_to_check):\n",
        "  print(f\"{year_to_check} is a leap year.\")\n",
        "else:\n",
        "  print(f\"{year_to_check} is not a leap year.\")\n",
        "\n",
        "year_to_check = 1900\n",
        "if is_leap(year_to_check):\n",
        "  print(f\"{year_to_check} is a leap year.\")\n",
        "else:\n",
        "  print(f\"{year_to_check} is not a leap year.\")"
      ],
      "execution_count": 1,
      "outputs": [
        {
          "output_type": "stream",
          "name": "stdout",
          "text": [
            "2024 is a leap year.\n",
            "1900 is not a leap year.\n"
          ]
        }
      ]
    },
    {
      "cell_type": "code",
      "source": [
        "Give one input-output example to guide AI in writing a function that\n",
        "converts centimeters to inches"
      ],
      "metadata": {
        "id": "of-4q8xz1Afh"
      },
      "execution_count": null,
      "outputs": []
    },
    {
      "cell_type": "code",
      "metadata": {
        "colab": {
          "base_uri": "https://localhost:8080/"
        },
        "id": "82cb6e73",
        "outputId": "45df70db-2d2a-49b7-9c43-427aa53f3328"
      },
      "source": [
        "def cm_to_inches(cm):\n",
        "  \"\"\"Converts centimeters to inches.\"\"\"\n",
        "  return cm * 0.393701\n",
        "\n",
        "# Example usage\n",
        "centimeters = 100\n",
        "inches = cm_to_inches(centimeters)\n",
        "print(f\"{centimeters} centimeters is equal to {inches:.2f} inches.\")"
      ],
      "execution_count": 2,
      "outputs": [
        {
          "output_type": "stream",
          "name": "stdout",
          "text": [
            "100 centimeters is equal to 39.37 inches.\n"
          ]
        }
      ]
    },
    {
      "cell_type": "code",
      "source": [
        "Few-shot: Provide 2–3 examples to generate a function that formats full names as\n",
        "“Last, First”"
      ],
      "metadata": {
        "id": "0wTbZcTU1M8P"
      },
      "execution_count": null,
      "outputs": []
    },
    {
      "cell_type": "code",
      "metadata": {
        "colab": {
          "base_uri": "https://localhost:8080/"
        },
        "id": "6942c552",
        "outputId": "8fd5d907-dde4-462b-ff3d-c3643a6ec87e"
      },
      "source": [
        "def format_name(full_name):\n",
        "  \"\"\"Formats a full name as 'Last, First'.\"\"\"\n",
        "  parts = full_name.split()\n",
        "  if len(parts) > 1:\n",
        "    return f\"{parts[-1]}, {' '.join(parts[:-1])}\"\n",
        "  else:\n",
        "    return full_name # Return original name if only one part\n",
        "\n",
        "# Example usage\n",
        "name1 = \"John Doe\"\n",
        "print(f\"'{name1}' formatted is: '{format_name(name1)}'\")\n",
        "\n",
        "name2 = \"Jane Smith\"\n",
        "print(f\"'{name2}' formatted is: '{format_name(name2)}'\")\n",
        "\n",
        "name3 = \"Peter Jones\"\n",
        "print(f\"'{name3}' formatted is: '{format_name(name3)}'\")\n",
        "\n",
        "name4 = \"Cher\"\n",
        "print(f\"'{name4}' formatted is: '{format_name(name4)}'\")"
      ],
      "execution_count": 3,
      "outputs": [
        {
          "output_type": "stream",
          "name": "stdout",
          "text": [
            "'John Doe' formatted is: 'Doe, John'\n",
            "'Jane Smith' formatted is: 'Smith, Jane'\n",
            "'Peter Jones' formatted is: 'Jones, Peter'\n",
            "'Cher' formatted is: 'Cher'\n"
          ]
        }
      ]
    },
    {
      "cell_type": "code",
      "source": [
        "Compare zero-shot and few-shot prompts for writing a function that counts the\n",
        "number of vowels in a string."
      ],
      "metadata": {
        "id": "iFP3b1GD1YzE"
      },
      "execution_count": null,
      "outputs": []
    },
    {
      "cell_type": "code",
      "metadata": {
        "colab": {
          "base_uri": "https://localhost:8080/"
        },
        "id": "01c649ab",
        "outputId": "7c1d86c9-3201-4d53-e6a9-d96b87805b18"
      },
      "source": [
        "def count_vowels(text):\n",
        "  \"\"\"Counts the number of vowels in a string.\"\"\"\n",
        "  vowels = \"aeiouAEIOU\"\n",
        "  count = 0\n",
        "  for char in text:\n",
        "    if char in vowels:\n",
        "      count += 1\n",
        "  return count\n",
        "\n",
        "# Example usage with zero-shot style input (just the instruction)\n",
        "# In a real scenario, you would just give the instruction.\n",
        "# Here, I'm showing how the function works with various inputs.\n",
        "print(f\"'hello' has {count_vowels('hello')} vowels.\")\n",
        "print(f\"'programming' has {count_vowels('programming')} vowels.\")\n",
        "print(f\"'AI' has {count_vowels('AI')} vowels.\")\n",
        "print(f\"'rythm' has {count_vowels('rythm')} vowels.\")"
      ],
      "execution_count": 4,
      "outputs": [
        {
          "output_type": "stream",
          "name": "stdout",
          "text": [
            "'hello' has 2 vowels.\n",
            "'programming' has 3 vowels.\n",
            "'AI' has 2 vowels.\n",
            "'rythm' has 0 vowels.\n"
          ]
        }
      ]
    },
    {
      "cell_type": "code",
      "source": [
        "Use few-shot prompting to generate a function that reads a .txt file and returns the\n",
        "number of lines"
      ],
      "metadata": {
        "id": "igIT_8Di1l3a"
      },
      "execution_count": null,
      "outputs": []
    },
    {
      "cell_type": "code",
      "metadata": {
        "id": "52b355ae"
      },
      "source": [
        "def count_lines_in_file(filename):\n",
        "  \"\"\"Reads a text file and returns the number of lines.\"\"\"\n",
        "  try:\n",
        "    with open(filename, 'r') as f:\n",
        "      lines = f.readlines()\n",
        "      return len(lines)\n",
        "  except FileNotFoundError:\n",
        "    return f\"Error: File '{filename}' not found.\"\n",
        "\n",
        "# To test this function, you would need to create a dummy text file first.\n",
        "# For example:\n",
        "# with open('my_test_file.txt', 'w') as f:\n",
        "#   f.write(\"Line 1\\n\")\n",
        "#   f.write(\"Line 2\\n\")\n",
        "#   f.write(\"Line 3\\n\")\n",
        "\n",
        "# Then call the function:\n",
        "# file_name = 'my_test_file.txt'\n",
        "# line_count = count_lines_in_file(file_name)\n",
        "# print(f\"The file '{file_name}' has {line_count} lines.\")"
      ],
      "execution_count": 5,
      "outputs": []
    }
  ]
}